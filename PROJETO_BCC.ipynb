{
  "nbformat": 4,
  "nbformat_minor": 0,
  "metadata": {
    "colab": {
      "name": "PROJETO_BCC.ipynb",
      "provenance": [],
      "collapsed_sections": [
        "jxtuFQaJ___f",
        "f6FFKakuT2gi",
        "txPaGPd6Afwz",
        "05PNJ8baBvUN",
        "NBmYqgwGCj5A",
        "FL75b6MBDk9a",
        "FEKhqS9Xa1Gs",
        "gmJ7HIf5Gxyq",
        "6HtFSl3J4wXa"
      ],
      "include_colab_link": true
    },
    "kernelspec": {
      "name": "python3",
      "display_name": "Python 3"
    },
    "language_info": {
      "name": "python"
    }
  },
  "cells": [
    {
      "cell_type": "markdown",
      "metadata": {
        "id": "view-in-github",
        "colab_type": "text"
      },
      "source": [
        "<a href=\"https://colab.research.google.com/github/oliveirakay/uri-java/blob/master/PROJETO_BCC.ipynb\" target=\"_parent\"><img src=\"https://colab.research.google.com/assets/colab-badge.svg\" alt=\"Open In Colab\"/></a>"
      ]
    },
    {
      "cell_type": "markdown",
      "metadata": {
        "id": "k3jA84fEDmmu"
      },
      "source": [
        "\n",
        "*NOME =* **\"KAYQUE DE MORAES URBANO OLIVEIRA\"**\n",
        "\n",
        "*RA =* **\"11202130076\"**\n",
        "\n",
        "\n",
        "##Proposta: Para tentar demonstrar absorção e compreensão dos tópicos apresentados ao longo do quadrimestre, optamos por fazer dois típos de abordagem: a **abordagem estática**, para demonstrar a capacidade de interpretação dos dados e ter *insights*; e a **abordagem dinâmica**, para demonstrar domínio na manipulação dos dados (com pandas, numpy, mathplotlib) e elaboração de código com loops e condicionais."
      ]
    },
    {
      "cell_type": "markdown",
      "metadata": {
        "id": "jxtuFQaJ___f"
      },
      "source": [
        "# MODELANDO OS DADOS (dependência)"
      ]
    },
    {
      "cell_type": "markdown",
      "metadata": {
        "id": "f6FFKakuT2gi"
      },
      "source": [
        "## LEITURA DO ARQUIVO CSV 📚 + IMPORTS ✈"
      ]
    },
    {
      "cell_type": "code",
      "metadata": {
        "id": "ZsE3rQorj6AP"
      },
      "source": [
        "import pandas as pd \n",
        "import numpy as np\n",
        "import matplotlib.pyplot as plt\n",
        "df = pd.read_csv(\"https://drive.google.com/u/1/uc?id=1TPHQyck1Rdi8lwzLOkBaI0DvkqmJJdG-&export=download\")"
      ],
      "execution_count": null,
      "outputs": []
    },
    {
      "cell_type": "markdown",
      "metadata": {
        "id": "txPaGPd6Afwz"
      },
      "source": [
        "## CRIAÇÃO DE DATAFRAMES AUXILIARES"
      ]
    },
    {
      "cell_type": "markdown",
      "metadata": {
        "id": "05PNJ8baBvUN"
      },
      "source": [
        "### CRIA A COLUNA PIB 💸\n",
        "  A partir do produto das colunas \"População\" e \"PIB per capita\" gerei a coluna \"PIB\""
      ]
    },
    {
      "cell_type": "code",
      "metadata": {
        "id": "uhSj6v2ehjIG",
        "colab": {
          "base_uri": "https://localhost:8080/"
        },
        "outputId": "8dc88d7f-6a11-42ee-c246-849226b854e5"
      },
      "source": [
        "# CRIA UMA COLUNA COM O PIB ANUAL DE CADA PAÍS\n",
        "# CALCULADO ATRAVÉS DE: \"PIB per capita\" * \"PIB\"\n",
        "df['PIB'] = df['PIB per capita']*df['População']\n",
        "df.head()"
      ],
      "execution_count": null,
      "outputs": [
        {
          "output_type": "execute_result",
          "data": {
            "text/html": [
              "<div>\n",
              "<style scoped>\n",
              "    .dataframe tbody tr th:only-of-type {\n",
              "        vertical-align: middle;\n",
              "    }\n",
              "\n",
              "    .dataframe tbody tr th {\n",
              "        vertical-align: top;\n",
              "    }\n",
              "\n",
              "    .dataframe thead th {\n",
              "        text-align: right;\n",
              "    }\n",
              "</style>\n",
              "<table border=\"1\" class=\"dataframe\">\n",
              "  <thead>\n",
              "    <tr style=\"text-align: right;\">\n",
              "      <th></th>\n",
              "      <th>País</th>\n",
              "      <th>Ano</th>\n",
              "      <th>População</th>\n",
              "      <th>Continente</th>\n",
              "      <th>Expectativa de Vida</th>\n",
              "      <th>PIB per capita</th>\n",
              "      <th>PIB</th>\n",
              "    </tr>\n",
              "  </thead>\n",
              "  <tbody>\n",
              "    <tr>\n",
              "      <th>0</th>\n",
              "      <td>Afghanistan</td>\n",
              "      <td>1952</td>\n",
              "      <td>8425333</td>\n",
              "      <td>Asia</td>\n",
              "      <td>28.801</td>\n",
              "      <td>779.445314</td>\n",
              "      <td>6.567086e+09</td>\n",
              "    </tr>\n",
              "    <tr>\n",
              "      <th>1</th>\n",
              "      <td>Afghanistan</td>\n",
              "      <td>1957</td>\n",
              "      <td>9240934</td>\n",
              "      <td>Asia</td>\n",
              "      <td>30.332</td>\n",
              "      <td>820.853030</td>\n",
              "      <td>7.585449e+09</td>\n",
              "    </tr>\n",
              "    <tr>\n",
              "      <th>2</th>\n",
              "      <td>Afghanistan</td>\n",
              "      <td>1962</td>\n",
              "      <td>10267083</td>\n",
              "      <td>Asia</td>\n",
              "      <td>31.997</td>\n",
              "      <td>853.100710</td>\n",
              "      <td>8.758856e+09</td>\n",
              "    </tr>\n",
              "    <tr>\n",
              "      <th>3</th>\n",
              "      <td>Afghanistan</td>\n",
              "      <td>1967</td>\n",
              "      <td>11537966</td>\n",
              "      <td>Asia</td>\n",
              "      <td>34.020</td>\n",
              "      <td>836.197138</td>\n",
              "      <td>9.648014e+09</td>\n",
              "    </tr>\n",
              "    <tr>\n",
              "      <th>4</th>\n",
              "      <td>Afghanistan</td>\n",
              "      <td>1972</td>\n",
              "      <td>13079460</td>\n",
              "      <td>Asia</td>\n",
              "      <td>36.088</td>\n",
              "      <td>739.981106</td>\n",
              "      <td>9.678553e+09</td>\n",
              "    </tr>\n",
              "  </tbody>\n",
              "</table>\n",
              "</div>"
            ],
            "text/plain": [
              "          País   Ano  ...  PIB per capita           PIB\n",
              "0  Afghanistan  1952  ...      779.445314  6.567086e+09\n",
              "1  Afghanistan  1957  ...      820.853030  7.585449e+09\n",
              "2  Afghanistan  1962  ...      853.100710  8.758856e+09\n",
              "3  Afghanistan  1967  ...      836.197138  9.648014e+09\n",
              "4  Afghanistan  1972  ...      739.981106  9.678553e+09\n",
              "\n",
              "[5 rows x 7 columns]"
            ]
          },
          "metadata": {},
          "execution_count": 16
        }
      ]
    },
    {
      "cell_type": "markdown",
      "metadata": {
        "id": "NBmYqgwGCj5A"
      },
      "source": [
        "### CRIAÇÃO DO DAFRAME GLOBAL 🌎 \n",
        "A partir do df original, criei um df com os dados globais de cada ano.\n",
        "\n",
        " Isso pode ajudar em insights, como para uma análise de páises/continentes em comparação ao mundo.\n",
        "\n",
        "Armazenado na variável **df_MUNDIAL**\n"
      ]
    },
    {
      "cell_type": "code",
      "metadata": {
        "colab": {
          "base_uri": "https://localhost:8080/",
          "height": 206
        },
        "id": "LT6gy2Ykt2z7",
        "outputId": "c927776d-a44e-47f9-a9e9-f2a49b7498ef"
      },
      "source": [
        "# ARMAZENA INFIRMAÇÕES DE INDEX EM LISTAS\n",
        "ANOS = df['Ano'].unique()\n",
        "CONTINENTES = df['Continente'].unique()\n",
        "\n",
        "# LISTAS QUE REPRESENTAM AS COLUNAS QUE SERÃO ADICIONADAS NO df_MUNDIAL: CASO QUEIRA ADICIONAR UMA COLUNA, COMECE POR AQUI.\n",
        "\n",
        "lista_PIB_MUNDIAL_ANUAL = []\n",
        "lista_PIB_MEDIO_MUNDIAL_ANUAL = []\n",
        "lista_POP_MUNDIAL = []\n",
        "lista_EXPECTATIVA_VIDA_MUNDIAL = []\n",
        "\n",
        "# PREENCHE AS LISTAS\n",
        "for ano in ANOS:\n",
        "  df_aux = df.query(f\"Ano =='{ano}'\") # Armazena em df_aux o dataframe de cada ano, e para cada ano extrai os dados globais\n",
        "  # entra em um ano\n",
        "  \n",
        "  lista_PIB_MEDIO_MUNDIAL_ANUAL.append(df_aux['PIB'].mean()) # calcula a média do pib global no ano em questão\n",
        "  lista_PIB_MUNDIAL_ANUAL.append(df_aux['PIB'].sum()) # calcula o pib mundial através das somas dos pibs de todos os países naquele ano em questão\n",
        "  lista_POP_MUNDIAL.append(df_aux['População'].sum()) # calcula a pop mundial através da soma da população de cada país no ano em questão\n",
        "  lista_EXPECTATIVA_VIDA_MUNDIAL.append(df_aux['Expectativa de Vida'].mean()) # calcula a média da expectativa de vida média de cada país para uma média global\n",
        "\n",
        "# A PARTIR DAS LISTAS ^ACIMA^, CRIA UM DF COM DADOS ANUAIS GLOBAIS \n",
        "df_MUNDIAL = pd.DataFrame(list(zip(ANOS,lista_PIB_MUNDIAL_ANUAL,lista_PIB_MEDIO_MUNDIAL_ANUAL,lista_POP_MUNDIAL,lista_EXPECTATIVA_VIDA_MUNDIAL)),\n",
        "                      columns=['ANO','PIB','MÉDIA DO PIB GLOBAL','POPULAÇÃO GLOBAL','EXPECTATIVA DE VIDA MÉDIA GLOBAL'])\n",
        "df_MUNDIAL['Continente'] = \"Globo\" # adiciona Globo como indicador para análise\n",
        "df_MUNDIAL.head()\n"
      ],
      "execution_count": null,
      "outputs": [
        {
          "output_type": "execute_result",
          "data": {
            "text/html": [
              "<div>\n",
              "<style scoped>\n",
              "    .dataframe tbody tr th:only-of-type {\n",
              "        vertical-align: middle;\n",
              "    }\n",
              "\n",
              "    .dataframe tbody tr th {\n",
              "        vertical-align: top;\n",
              "    }\n",
              "\n",
              "    .dataframe thead th {\n",
              "        text-align: right;\n",
              "    }\n",
              "</style>\n",
              "<table border=\"1\" class=\"dataframe\">\n",
              "  <thead>\n",
              "    <tr style=\"text-align: right;\">\n",
              "      <th></th>\n",
              "      <th>ANO</th>\n",
              "      <th>PIB</th>\n",
              "      <th>MÉDIA DO PIB GLOBAL</th>\n",
              "      <th>POPULAÇÃO GLOBAL</th>\n",
              "      <th>EXPECTATIVA DE VIDA MÉDIA GLOBAL</th>\n",
              "      <th>Continente</th>\n",
              "    </tr>\n",
              "  </thead>\n",
              "  <tbody>\n",
              "    <tr>\n",
              "      <th>0</th>\n",
              "      <td>1952</td>\n",
              "      <td>7.037689e+12</td>\n",
              "      <td>4.956119e+10</td>\n",
              "      <td>2406957150</td>\n",
              "      <td>49.057620</td>\n",
              "      <td>Globo</td>\n",
              "    </tr>\n",
              "    <tr>\n",
              "      <th>1</th>\n",
              "      <td>1957</td>\n",
              "      <td>8.896268e+12</td>\n",
              "      <td>6.264978e+10</td>\n",
              "      <td>2664404580</td>\n",
              "      <td>51.507401</td>\n",
              "      <td>Globo</td>\n",
              "    </tr>\n",
              "    <tr>\n",
              "      <th>2</th>\n",
              "      <td>1962</td>\n",
              "      <td>1.100437e+13</td>\n",
              "      <td>7.749557e+10</td>\n",
              "      <td>2899782974</td>\n",
              "      <td>53.609249</td>\n",
              "      <td>Globo</td>\n",
              "    </tr>\n",
              "    <tr>\n",
              "      <th>3</th>\n",
              "      <td>1967</td>\n",
              "      <td>1.424809e+13</td>\n",
              "      <td>1.003387e+11</td>\n",
              "      <td>3217478384</td>\n",
              "      <td>55.678290</td>\n",
              "      <td>Globo</td>\n",
              "    </tr>\n",
              "    <tr>\n",
              "      <th>4</th>\n",
              "      <td>1972</td>\n",
              "      <td>1.842143e+13</td>\n",
              "      <td>1.297284e+11</td>\n",
              "      <td>3576977158</td>\n",
              "      <td>57.647386</td>\n",
              "      <td>Globo</td>\n",
              "    </tr>\n",
              "  </tbody>\n",
              "</table>\n",
              "</div>"
            ],
            "text/plain": [
              "    ANO           PIB  ...  EXPECTATIVA DE VIDA MÉDIA GLOBAL  Continente\n",
              "0  1952  7.037689e+12  ...                         49.057620       Globo\n",
              "1  1957  8.896268e+12  ...                         51.507401       Globo\n",
              "2  1962  1.100437e+13  ...                         53.609249       Globo\n",
              "3  1967  1.424809e+13  ...                         55.678290       Globo\n",
              "4  1972  1.842143e+13  ...                         57.647386       Globo\n",
              "\n",
              "[5 rows x 6 columns]"
            ]
          },
          "metadata": {},
          "execution_count": 36
        }
      ]
    },
    {
      "cell_type": "markdown",
      "metadata": {
        "id": "FL75b6MBDk9a"
      },
      "source": [
        "### CRIAÇÃO DOS DATAFRAMES CONTINENTAIS\n",
        "  Os dataframes são armazenados no array: **LISTA_DE_DF_CONTINENTES** \n",
        "  \n",
        "  Na seguinte ordem: ['Asia', 'Europe', 'Africa', 'Americas', 'Oceania'], ou seja \n",
        "\n",
        "```\n",
        "# LISTA_DE_DF_CONTINENTES[0] = 'Asia'\n",
        "```\n",
        "\n"
      ]
    },
    {
      "cell_type": "code",
      "metadata": {
        "id": "YJF2nvQ_XD_h",
        "colab": {
          "base_uri": "https://localhost:8080/",
          "height": 425
        },
        "outputId": "246c4597-aef3-4936-c25b-cfc902a224d2"
      },
      "source": [
        "# ['Asia' 'Europe' 'Africa' 'Americas' 'Oceania']\n",
        "LISTA_DE_DF_CONTINENTES = []\n",
        "# LISTA_DE_DF_CONTINENTES.append(df_MUNDIAL)\n",
        "for CONTINENTE in CONTINENTES:\n",
        "  df_aux = df.query(f\"Continente == '{CONTINENTE}'\") # Entra num continente\n",
        "  # Colunas que serão geradas\n",
        "  EXPECTATIVA_VIDA_ANUAL = []\n",
        "  PIB = []\n",
        "  PIB_MEDIO_CONTINENTAL = []\n",
        "  PIB_POR_NACAO = []\n",
        "  PIB_PERCAP = []\n",
        "  PIB_PERCAP_MEDIA = []\n",
        "  POPULACAO = []\n",
        "\n",
        "  for ano in ANOS: # esse laço percorrerá todos os anos naquele CONTINENTE\n",
        "    df_aux2 = df_aux.query(f\"Ano == '{ano}'\") # Entra num ano\n",
        "\n",
        "    EXPECTATIVA_VIDA_ANUAL.append(df_aux2['Expectativa de Vida'].mean()) #calcula a expectativa de vida média naquele CONTINENTE, e naquele ANO\n",
        "    PIB.append(df_aux2['PIB'].sum())\n",
        "    PIB_MEDIO_CONTINENTAL.append(df_aux2['PIB'].mean())\n",
        "    PIB_POR_NACAO.append(df_aux2['PIB']/len(df_aux['País'].unique()))\n",
        "    PIB_PERCAP_MEDIA.append(df_aux2['PIB per capita'].mean()) # Média do PIB percap\n",
        "    PIB_PERCAP.append(df_aux2['PIB'].sum()/df_aux2['População'].sum()) # PIB percap do Continente\n",
        "    # teste\n",
        "    POPULACAO.append(df_aux2['População'].sum())\n",
        "\n",
        "  # Cria a tabala na escala continental \n",
        "  df_aux = pd.DataFrame(list(zip(ANOS,EXPECTATIVA_VIDA_ANUAL,PIB_MEDIO_CONTINENTAL,PIB,PIB_POR_NACAO,PIB_PERCAP,PIB_PERCAP_MEDIA,POPULACAO)),columns=['ANO','Expectativa de vida média','PIB_MEDIO_CONTINENTAL', 'PIB','PIB por nação','PIB per capita','MÉDIA do PIB per capita','População'])\n",
        "  df_aux['Continente'] = f\"{CONTINENTE}\"\n",
        "  LISTA_DE_DF_CONTINENTES.append(df_aux)\n",
        "\n",
        "# ['Asia' 'Europe' 'Africa' 'Americas' 'Oceania']  \n",
        "LISTA_DE_DF_CONTINENTES[1] # esse array tem um df pra cara continente\n"
      ],
      "execution_count": null,
      "outputs": [
        {
          "output_type": "execute_result",
          "data": {
            "text/html": [
              "<div>\n",
              "<style scoped>\n",
              "    .dataframe tbody tr th:only-of-type {\n",
              "        vertical-align: middle;\n",
              "    }\n",
              "\n",
              "    .dataframe tbody tr th {\n",
              "        vertical-align: top;\n",
              "    }\n",
              "\n",
              "    .dataframe thead th {\n",
              "        text-align: right;\n",
              "    }\n",
              "</style>\n",
              "<table border=\"1\" class=\"dataframe\">\n",
              "  <thead>\n",
              "    <tr style=\"text-align: right;\">\n",
              "      <th></th>\n",
              "      <th>ANO</th>\n",
              "      <th>Expectativa de vida média</th>\n",
              "      <th>PIB_MEDIO_CONTINENTAL</th>\n",
              "      <th>PIB</th>\n",
              "      <th>PIB por nação</th>\n",
              "      <th>PIB per capita</th>\n",
              "      <th>MÉDIA do PIB per capita</th>\n",
              "      <th>População</th>\n",
              "      <th>Continente</th>\n",
              "    </tr>\n",
              "  </thead>\n",
              "  <tbody>\n",
              "    <tr>\n",
              "      <th>0</th>\n",
              "      <td>1952</td>\n",
              "      <td>64.408500</td>\n",
              "      <td>8.497134e+10</td>\n",
              "      <td>2.549140e+12</td>\n",
              "      <td>12      6.845566e+07\n",
              "72      1.417209e+09\n",
              "108 ...</td>\n",
              "      <td>6096.659060</td>\n",
              "      <td>5661.057435</td>\n",
              "      <td>418120846</td>\n",
              "      <td>Europe</td>\n",
              "    </tr>\n",
              "    <tr>\n",
              "      <th>1</th>\n",
              "      <td>1957</td>\n",
              "      <td>66.703067</td>\n",
              "      <td>1.099895e+11</td>\n",
              "      <td>3.299685e+12</td>\n",
              "      <td>13      9.559308e+07\n",
              "73      2.053210e+09\n",
              "109 ...</td>\n",
              "      <td>7535.414166</td>\n",
              "      <td>6963.012816</td>\n",
              "      <td>437890351</td>\n",
              "      <td>Europe</td>\n",
              "    </tr>\n",
              "    <tr>\n",
              "      <th>2</th>\n",
              "      <td>1962</td>\n",
              "      <td>68.539233</td>\n",
              "      <td>1.389847e+11</td>\n",
              "      <td>4.169541e+12</td>\n",
              "      <td>14      1.332330e+08\n",
              "74      2.555039e+09\n",
              "110 ...</td>\n",
              "      <td>9057.226247</td>\n",
              "      <td>8365.486814</td>\n",
              "      <td>460355155</td>\n",
              "      <td>Europe</td>\n",
              "    </tr>\n",
              "    <tr>\n",
              "      <th>3</th>\n",
              "      <td>1967</td>\n",
              "      <td>69.737600</td>\n",
              "      <td>1.733666e+11</td>\n",
              "      <td>5.200999e+12</td>\n",
              "      <td>15      1.825465e+08\n",
              "75      3.156028e+09\n",
              "111 ...</td>\n",
              "      <td>10808.866738</td>\n",
              "      <td>10143.823757</td>\n",
              "      <td>481178958</td>\n",
              "      <td>Europe</td>\n",
              "    </tr>\n",
              "    <tr>\n",
              "      <th>4</th>\n",
              "      <td>1972</td>\n",
              "      <td>70.775033</td>\n",
              "      <td>2.186915e+11</td>\n",
              "      <td>6.560744e+12</td>\n",
              "      <td>16      2.500037e+08\n",
              "76      4.189955e+09\n",
              "112 ...</td>\n",
              "      <td>13104.843067</td>\n",
              "      <td>12479.575246</td>\n",
              "      <td>500635059</td>\n",
              "      <td>Europe</td>\n",
              "    </tr>\n",
              "    <tr>\n",
              "      <th>5</th>\n",
              "      <td>1977</td>\n",
              "      <td>71.937767</td>\n",
              "      <td>2.553675e+11</td>\n",
              "      <td>7.661026e+12</td>\n",
              "      <td>17      2.954825e+08\n",
              "77      4.982404e+09\n",
              "113 ...</td>\n",
              "      <td>14813.517173</td>\n",
              "      <td>14283.979110</td>\n",
              "      <td>517164531</td>\n",
              "      <td>Europe</td>\n",
              "    </tr>\n",
              "    <tr>\n",
              "      <th>6</th>\n",
              "      <td>1982</td>\n",
              "      <td>72.806400</td>\n",
              "      <td>2.794841e+11</td>\n",
              "      <td>8.384522e+12</td>\n",
              "      <td>18      3.364734e+08\n",
              "78      5.452985e+09\n",
              "114 ...</td>\n",
              "      <td>15782.128148</td>\n",
              "      <td>15617.896551</td>\n",
              "      <td>531266901</td>\n",
              "      <td>Europe</td>\n",
              "    </tr>\n",
              "    <tr>\n",
              "      <th>7</th>\n",
              "      <td>1987</td>\n",
              "      <td>73.642167</td>\n",
              "      <td>3.165075e+11</td>\n",
              "      <td>9.495224e+12</td>\n",
              "      <td>19      3.832806e+08\n",
              "79      5.984258e+09\n",
              "115 ...</td>\n",
              "      <td>17483.568975</td>\n",
              "      <td>17214.310727</td>\n",
              "      <td>543094160</td>\n",
              "      <td>Europe</td>\n",
              "    </tr>\n",
              "    <tr>\n",
              "      <th>8</th>\n",
              "      <td>1992</td>\n",
              "      <td>74.440100</td>\n",
              "      <td>3.427032e+11</td>\n",
              "      <td>1.028110e+13</td>\n",
              "      <td>20      2.769241e+08\n",
              "80      7.134558e+09\n",
              "116 ...</td>\n",
              "      <td>18420.191889</td>\n",
              "      <td>17061.568084</td>\n",
              "      <td>558142797</td>\n",
              "      <td>Europe</td>\n",
              "    </tr>\n",
              "    <tr>\n",
              "      <th>9</th>\n",
              "      <td>1997</td>\n",
              "      <td>75.505167</td>\n",
              "      <td>3.836069e+11</td>\n",
              "      <td>1.150821e+13</td>\n",
              "      <td>21      3.648638e+08\n",
              "81      7.826682e+09\n",
              "117 ...</td>\n",
              "      <td>20227.307119</td>\n",
              "      <td>19076.781802</td>\n",
              "      <td>568944148</td>\n",
              "      <td>Europe</td>\n",
              "    </tr>\n",
              "    <tr>\n",
              "      <th>10</th>\n",
              "      <td>2002</td>\n",
              "      <td>76.700600</td>\n",
              "      <td>4.364488e+11</td>\n",
              "      <td>1.309346e+13</td>\n",
              "      <td>22      5.384644e+08\n",
              "82      8.804959e+09\n",
              "118 ...</td>\n",
              "      <td>22644.282180</td>\n",
              "      <td>21711.732422</td>\n",
              "      <td>578223869</td>\n",
              "      <td>Europe</td>\n",
              "    </tr>\n",
              "    <tr>\n",
              "      <th>11</th>\n",
              "      <td>2007</td>\n",
              "      <td>77.648600</td>\n",
              "      <td>4.931833e+11</td>\n",
              "      <td>1.479550e+13</td>\n",
              "      <td>23      7.125470e+08\n",
              "83      9.874313e+09\n",
              "119 ...</td>\n",
              "      <td>25244.047885</td>\n",
              "      <td>25054.481636</td>\n",
              "      <td>586098529</td>\n",
              "      <td>Europe</td>\n",
              "    </tr>\n",
              "  </tbody>\n",
              "</table>\n",
              "</div>"
            ],
            "text/plain": [
              "     ANO  Expectativa de vida média  ...  População  Continente\n",
              "0   1952                  64.408500  ...  418120846      Europe\n",
              "1   1957                  66.703067  ...  437890351      Europe\n",
              "2   1962                  68.539233  ...  460355155      Europe\n",
              "3   1967                  69.737600  ...  481178958      Europe\n",
              "4   1972                  70.775033  ...  500635059      Europe\n",
              "5   1977                  71.937767  ...  517164531      Europe\n",
              "6   1982                  72.806400  ...  531266901      Europe\n",
              "7   1987                  73.642167  ...  543094160      Europe\n",
              "8   1992                  74.440100  ...  558142797      Europe\n",
              "9   1997                  75.505167  ...  568944148      Europe\n",
              "10  2002                  76.700600  ...  578223869      Europe\n",
              "11  2007                  77.648600  ...  586098529      Europe\n",
              "\n",
              "[12 rows x 9 columns]"
            ]
          },
          "metadata": {},
          "execution_count": 50
        }
      ]
    },
    {
      "cell_type": "markdown",
      "metadata": {
        "id": "FEKhqS9Xa1Gs"
      },
      "source": [
        "#FUNÇÕES IMPORTANTES (dependência)"
      ]
    },
    {
      "cell_type": "markdown",
      "source": [
        "##Funções de manipulação"
      ],
      "metadata": {
        "id": "w8FPLyB_Wbqg"
      }
    },
    {
      "cell_type": "code",
      "metadata": {
        "id": "4NYQ07i7cP6n"
      },
      "source": [
        "df['País'].unique()\n",
        "def pais_no_ano():\n",
        "  df_aux = df_do_pais(País)\n",
        "  df_aux = df_aux.query(f\"Ano == '{Ano}'\")\n",
        "  return df_aux\n",
        "\n",
        "def pop_do_pais():\n",
        "  df_aux = pais_no_ano()\n",
        "  return round(df_aux.iloc[0]['População'],2)\n",
        "\n",
        "def ev_do_pais():\n",
        "  df_aux = pais_no_ano()\n",
        "  return round(df_aux.iloc[0]['Expectativa de Vida'],2)\n",
        "\n",
        "def ev_do_continente():\n",
        "  df_aux = df_do_continente(continente_do_pais(País))\n",
        "  df_aux = df_aux.query(f\"ANO == '{Ano}'\")\n",
        "  return round(df_aux.iloc[0]['Expectativa de vida média'],2)\n",
        "\n",
        "def ev_do_mundo():\n",
        "  df_aux = df_MUNDIAL.query(f\"ANO == '{Ano}'\")\n",
        "  return round(df_aux.iloc[0]['EXPECTATIVA DE VIDA MÉDIA GLOBAL'],2)\n",
        "\n",
        "def ev_comparação_pais_continente():\n",
        "  if ev_do_pais() > ev_do_continente():\n",
        "    comparação = \"acima\"\n",
        "  else:\n",
        "    comparação = \"abaixo\"\n",
        "  return comparação\n",
        "\n",
        "def ev_comparação_pais_mundo():  \n",
        "  if ev_do_pais() > ev_do_mundo():\n",
        "    comparação = \"acima\"\n",
        "  else:\n",
        "    comparação = \"abaixo\"\n",
        "  return comparação\n",
        "\n",
        "def ev_comparação_continente_mundo():\n",
        "  if ev_do_continente() > ev_do_mundo():\n",
        "    comparação = \"acima\"\n",
        "  else:\n",
        "    comparação = \"abaixo\"\n",
        "  return comparação\n",
        "  \n",
        "def pib_do_pais():\n",
        "  df_aux = df_do_pais(País)\n",
        "  df_aux = df_aux.query(f\"Ano == '{Ano}'\")\n",
        "  return df_aux.iloc[0]['PIB']\n",
        "\n",
        "def pib_do_continente():\n",
        "  df_aux = df_do_continente(continente_do_pais(País))\n",
        "  df_aux = df_aux.query(f\"ANO == '{Ano}'\")\n",
        "  return df_aux.iloc[0]['PIB']\n",
        "\n",
        "def continente_do_pais(p):\n",
        "  \"\"\"devolve uma string com o continente do país selecionado\"\"\"\n",
        "  auxiliar = df.query(f\"País == '{p}'\")\n",
        "  nomeDoContinente = auxiliar.iloc[0]['Continente']\n",
        "  return nomeDoContinente\n",
        "\n",
        "def df_do_continente_com_paises(continente,ano): \n",
        "  \"\"\"retorna um df dos paises no continente e ano inputados nos parametros\"\"\"\n",
        "  df_continente_ano = df.query(f\"Continente == '{continente}'\")\n",
        "  df_continente_ano = df_continente_ano.query(f\"Ano == '{ano}'\")\n",
        "  return df_continente_ano\n",
        "\n",
        "def df_do_continente(Continente):\n",
        "  \"\"\"retorna dados gerais do continente presente na LISTA_DE_DF_CONTINENTES\"\"\"\n",
        "  for continente_df in LISTA_DE_DF_CONTINENTES:\n",
        "    nome_do_continente = continente_df.iloc[0]['Continente']\n",
        "\n",
        "    if Continente == nome_do_continente:\n",
        "      return continente_df\n",
        "\n",
        "def df_do_pais(pais): \n",
        "  \"\"\"retorna o df do país\"\"\"\n",
        "  return df.query(f\"País == '{pais}'\")\n",
        "\n",
        "\n",
        "def ihdr_do_pais():\n",
        "  df_aux = df_do_pais(País)\n",
        "  return round(abs(df_aux['PIB per capita'].corr(df_aux['Expectativa de Vida'])),2)\n",
        "\n",
        "def pib_do_mundo():\n",
        "  df_aux = df_MUNDIAL\n",
        "  df_aux = df_aux.query(f\"ANO == '{Ano}'\")\n",
        "  return df_aux.iloc[0]['PIB']\n",
        "\n",
        "def pop_do_mundo():\n",
        "  df_aux = df_MUNDIAL\n",
        "  df_aux = df_aux.query(f\"ANO == '{Ano}'\")\n",
        "  return df_aux.iloc[0]['POPULAÇÃO GLOBAL']\n",
        "\n",
        "def pop_do_continente():\n",
        "  df_aux = df_do_continente(continente_do_pais(País))\n",
        "  df_aux = df_aux.query(f\"ANO == '{Ano}'\")\n",
        "  return df_aux.iloc[0]['População']\n",
        "\n",
        "def porcentagemPIB_país_continente():\n",
        "  porcentagemPIB = round((pib_do_pais()/pib_do_continente())*100,2)\n",
        "  return porcentagemPIB\n",
        "\n",
        "def porcentagemPIB_país_mundo():\n",
        "  porcentagemPIB = round((pib_do_pais()/pib_do_mundo())*100,2)\n",
        "  return porcentagemPIB\n",
        "\n",
        "def porcentagemPOP_país_continente():\n",
        "  return round((pop_do_pais()/pop_do_continente())*100,2)\n",
        "\n",
        "def porcentagemPOP_país_mundo():\n",
        "  return round((pop_do_pais()/pop_do_mundo())*100,2)"
      ],
      "execution_count": null,
      "outputs": []
    },
    {
      "cell_type": "markdown",
      "source": [
        "## Funções de plot"
      ],
      "metadata": {
        "id": "DbpjgsA5WTif"
      }
    },
    {
      "cell_type": "code",
      "metadata": {
        "id": "7upJL6Npm7Ir"
      },
      "source": [
        "def plota_pop_bar(ano): \n",
        "  for df_continente in LISTA_DE_DF_CONTINENTES:#entra num continente\n",
        "    df_continente = df_continente.query(f\"ANO == '{ano}'\")\n",
        "    plt.bar(df_continente['Continente'],df_continente['População'])\n",
        "  \n",
        "  plt.bar(País,pop_do_pais())\n",
        "  plt.title(f\"Distribuição da pop mundial nos continentes e no {País} - {ano}\")\n",
        "  plt.show()\n",
        "    \n",
        "def plota_pibs_pizza(ano):\n",
        "  lista_pibs = []\n",
        "  for df_continente in LISTA_DE_DF_CONTINENTES:\n",
        "    df_continente = df_continente.query(f\"ANO == '{ano}'\")\n",
        "    lista_pibs.append(df_continente['PIB'])\n",
        "\n",
        "  y = np.array(lista_pibs)\n",
        "\n",
        "  plt.pie(y, labels=CONTINENTES,shadow= True, autopct='%1.1f%%')\n",
        "  plt.legend(loc='upper right', bbox_to_anchor=(1.55, 0.5))\n",
        "  plt.title(f\"Distribuição do PIB no mundo, em pontos percentuais (%), {ano}\")\n",
        "  plt.show()\n",
        "\n",
        "def pib_pizza_pais_continente():\n",
        "  x = [pib_do_pais(),(pib_do_continente()-pib_do_pais())]\n",
        "  plt.pie(x, labels=[f\"{País}\",f\"{continente_do_pais(País)}\"],shadow= True, autopct='%1.1f%%')\n",
        "  plt.legend(loc='upper right', bbox_to_anchor=(1.55, 0.5))\n",
        "  plt.title(f\"Distribuição do PIB no mundo, em pontos percentuais (%), {ano}\")\n",
        "  plt.show()\n",
        "\n",
        "def pib_bar_pais_continente():\n",
        "  plt.bar(País,pib_do_pais())\n",
        "  plt.bar(continente_do_pais(País),pib_do_continente())\n",
        "  plt.show()\n",
        "\n",
        "def plota_ev_scatter():\n",
        "  plt.scatter(x = [País,continente_do_pais(País),\"Global\"],y = [ev_do_pais(),ev_do_continente(),ev_do_mundo()])\n",
        "  plt.title(f\"Expectativas de vida - {Ano}\")\n",
        "  plt.show()\n",
        "\n",
        "def plota_ev_ano_scatter():\n",
        "  df_americas = df_do_pais(País)\n",
        "  x = df_americas['Ano']\n",
        "  y = df_americas['Expectativa de Vida']\n",
        "  plt.figure(figsize= [10,6])\n",
        "  plt.scatter(x, y, s=100,c = 'r', alpha=0.3,)\n",
        "  plt.title(f\"Expectativa de vida x Ano - {País}\")\n",
        "  plt.show()"
      ],
      "execution_count": null,
      "outputs": []
    },
    {
      "cell_type": "markdown",
      "source": [
        "## Função de análise"
      ],
      "metadata": {
        "id": "aL6JoFcfXYmy"
      }
    },
    {
      "cell_type": "code",
      "source": [
        "def analise():\n",
        "  # f\"O PIB da(o) {continente_do_pais(País)} é \", significância, \" percentualmente no mundo\"\n",
        "  porcentagemPIB = round((pib_do_pais()/pib_do_continente())*100,2)\n",
        "  print(\"No ano de\", Ano,\"o PIB d@\", País,f\"era {porcentagemPIB_país_continente()}% do PIB do continente\", continente_do_pais(País),f\"e {porcentagemPIB_país_mundo()}% do PIB mundial\")\n",
        "  pib_bar_pais_continente()\n",
        "  print(f\"Sua expectativa de vida era igual a {ev_do_pais()} anos,\", ev_comparação_pais_continente(),f\"da média continental ({ev_do_continente()} anos) e\",ev_comparação_pais_mundo(),f\"da global ({ev_do_mundo()} anos)\")\n",
        "  plota_ev_scatter()\n",
        "  print(f\"Com a população d@ {País} representanto {porcentagemPOP_país_continente()}% da população do continente {continente_do_pais(País)} e {porcentagemPOP_país_mundo()}% da população global\")\n",
        "  plota_pop_bar(Ano)\n",
        "  print(f\"E a distribuição do pib no ano de {Ano} foi:\")\n",
        "  plota_pibs_pizza(Ano)\n",
        "  print(\"Com a seguinte progressão de expectativa de vida - 1952 a 2007\")\n",
        "  plota_ev_ano_scatter()\n",
        "analise()"
      ],
      "metadata": {
        "colab": {
          "base_uri": "https://localhost:8080/",
          "height": 1000
        },
        "id": "dulNof8eXcNK",
        "outputId": "88c086e7-ca47-4ec1-bb62-3a868901716b"
      },
      "execution_count": null,
      "outputs": [
        {
          "output_type": "stream",
          "name": "stdout",
          "text": [
            "No ano de 2007 o PIB d@ United States era 66.61% do PIB do continente Americas e 22.26% do PIB mundial\n"
          ]
        },
        {
          "output_type": "display_data",
          "data": {
            "image/png": "[encoded data removed]",
            "text/plain": [
              "<Figure size 432x288 with 1 Axes>"
            ]
          },
          "metadata": {
            "needs_background": "light"
          }
        },
        {
          "output_type": "stream",
          "name": "stdout",
          "text": [
            "Sua expectativa de vida era igual a 78.24 anos, acima da média continental (73.61 anos) e acima da global (67.01 anos)\n"
          ]
        },
        {
          "output_type": "display_data",
          "data": {
            "image/png": "[encoded data removed]",
            "text/plain": [
              "<Figure size 432x288 with 1 Axes>"
            ]
          },
          "metadata": {
            "needs_background": "light"
          }
        },
        {
          "output_type": "stream",
          "name": "stdout",
          "text": [
            "Com a população d@ United States representanto 33.5% da população do continente Americas e 4.82% da população global\n"
          ]
        },
        {
          "output_type": "display_data",
          "data": {
            "image/png": "[encoded data removed]",
            "text/plain": [
              "<Figure size 432x288 with 1 Axes>"
            ]
          },
          "metadata": {
            "needs_background": "light"
          }
        },
        {
          "output_type": "stream",
          "name": "stdout",
          "text": [
            "E a distribuição do pib no ano de 2007 foi:\n"
          ]
        },
        {
          "output_type": "stream",
          "name": "stderr",
          "text": [
            "/usr/local/lib/python3.7/dist-packages/ipykernel_launcher.py:18: MatplotlibDeprecationWarning: Non-1D inputs to pie() are currently squeeze()d, but this behavior is deprecated since 3.1 and will be removed in 3.3; pass a 1D array instead.\n"
          ]
        },
        {
          "output_type": "display_data",
          "data": {
            "image/png": "[encoded data removed]",
            "text/plain": [
              "<Figure size 432x288 with 1 Axes>"
            ]
          },
          "metadata": {}
        },
        {
          "output_type": "stream",
          "name": "stdout",
          "text": [
            "Com a seguinte progressão de expectativa de vida - 1952 a 2007\n"
          ]
        },
        {
          "output_type": "display_data",
          "data": {
            "image/png": "[encoded data removed]",
            "text/plain": [
              "<Figure size 720x432 with 1 Axes>"
            ]
          },
          "metadata": {
            "needs_background": "light"
          }
        }
      ]
    },
    {
      "cell_type": "markdown",
      "metadata": {
        "id": "gmJ7HIf5Gxyq"
      },
      "source": [
        "# Análise dinâmica 🟢 📉\n",
        "A Ideia dos Relatórios responsivos é trazer dados e análises simples do país escolhido pelo usuário. Pra isso, utilizei o framework do google forms pra gerar o dropdown com input."
      ]
    },
    {
      "cell_type": "code",
      "metadata": {
        "id": "7dFraRfRn36y",
        "colab": {
          "base_uri": "https://localhost:8080/",
          "height": 1000
        },
        "cellView": "form",
        "outputId": "83d1120b-6166-4e20-9e40-9cff48cf1e8e"
      },
      "source": [
        "#@title  { run: \"auto\" }\n",
        "\n",
        "# Continente = \"Asia\" #@param['Asia', 'Europe', 'Africa', 'Americas', 'Oceania']\n",
        "País = \"Cuba\" #@param['Afghanistan','Albania','Algeria','Angola','Argentina','Australia', 'Austria', 'Bahrain', 'Bangladesh', 'Belgium','Benin', 'Bolivia', 'Bosnia and Herzegovina', 'Botswana', 'Brazil','Bulgaria', 'Burkina Faso', 'Burundi', 'Cambodia', 'Cameroon','Canada', 'Central African Republic', 'Chad', 'Chile', 'China','Colombia', 'Comoros', 'Congo, Dem. Rep.','Congo, Rep.','Costa Rica','Croatia', 'Cuba','Czech Republic','Denmark','Djibouti','Dominican Republic','Ecuador','Egypt','El Salvador','Equatorial Guinea','Eritrea','Ethiopia','Finland','France','Gabon','Gambia','Germany','Ghana','Greece','Guatemala','Guinea','Guinea-Bissau','Haiti','Honduras','Hong Kong, China','Hungary','Iceland','India','Indonesia','Iran','Iraq','Ireland','Israel','Italy','Jamaica','Japan','Jordan','Kenya','Korea, Dem. Rep.','Korea, Rep.','Kuwait','Lebanon','Lesotho','Liberia','Libya','Madagascar','Malawi','Malaysia','Mali','Mauritania','Mauritius','Mexico','Mongolia','Montenegro', 'Morocco','Mozambique','Myanmar','Namibia','Nepal', 'Netherlands','New Zealand', 'Nicaragua', 'Niger','Nigeria', 'Norway', 'Oman','Pakistan', 'Panama', 'Paraguay', 'Peru', 'Philippines', 'Poland','Portugal','Puerto Rico', 'Reunion', 'Romania', 'Rwanda','Sao Tome and Principe','Saudi Arabia','Senegal','Serbia','Sierra Leone', 'Singapore', 'Slovak Republic', 'Slovenia','Somalia','South Africa','Spain','Sri Lanka','Sudan','Swaziland', 'Sweden', 'Switzerland', 'Syria','Taiwan','Tanzania','Thailand','Togo','Trinidad and Tobago','Tunisia','Turkey', 'Uganda','United Kingdom', 'United States', 'Uruguay','Venezuela', 'Vietnam', 'West Bank and Gaza', 'Yemen, Rep.','Zambia', 'Zimbabwe']\n",
        "Ano = \"2007\" #@param[1952 ,1957 ,1962 ,1967 ,1972 ,1977 ,1982 ,1987 ,1992 ,1997, 2002, 2007]\n",
        "analise()"
      ],
      "execution_count": null,
      "outputs": [
        {
          "output_type": "stream",
          "name": "stdout",
          "text": [
            "No ano de 2007 o PIB d@ Cuba era 0.53% do PIB do continente Americas e 0.18% do PIB mundial\n"
          ]
        },
        {
          "output_type": "display_data",
          "data": {
            "image/png": "[encoded data removed]",
            "text/plain": [
              "<Figure size 432x288 with 1 Axes>"
            ]
          },
          "metadata": {
            "needs_background": "light"
          }
        },
        {
          "output_type": "stream",
          "name": "stdout",
          "text": [
            "Sua expectativa de vida era igual a 78.27 anos, acima da média continental (73.61 anos) e acima da global (67.01 anos)\n"
          ]
        },
        {
          "output_type": "display_data",
          "data": {
            "image/png": "[encoded data removed]",
            "text/plain": [
              "<Figure size 432x288 with 1 Axes>"
            ]
          },
          "metadata": {
            "needs_background": "light"
          }
        },
        {
          "output_type": "stream",
          "name": "stdout",
          "text": [
            "Com a população d@ Cuba representanto 1.27% da população do continente Americas e 0.18% da população global\n"
          ]
        },
        {
          "output_type": "display_data",
          "data": {
            "image/png": "[encoded data removed]",
            "text/plain": [
              "<Figure size 432x288 with 1 Axes>"
            ]
          },
          "metadata": {
            "needs_background": "light"
          }
        },
        {
          "output_type": "stream",
          "name": "stdout",
          "text": [
            "E a distribuição do pib no ano de 2007 foi:\n"
          ]
        },
        {
          "output_type": "stream",
          "name": "stderr",
          "text": [
            "/usr/local/lib/python3.7/dist-packages/ipykernel_launcher.py:18: MatplotlibDeprecationWarning: Non-1D inputs to pie() are currently squeeze()d, but this behavior is deprecated since 3.1 and will be removed in 3.3; pass a 1D array instead.\n"
          ]
        },
        {
          "output_type": "display_data",
          "data": {
            "image/png": "[encoded data removed]",
            "text/plain": [
              "<Figure size 432x288 with 1 Axes>"
            ]
          },
          "metadata": {}
        },
        {
          "output_type": "stream",
          "name": "stdout",
          "text": [
            "Com a seguinte progressão de expectativa de vida - 1952 a 2007\n"
          ]
        },
        {
          "output_type": "display_data",
          "data": {
            "image/png": "[encoded data removed]",
            "text/plain": [
              "<Figure size 720x432 with 1 Axes>"
            ]
          },
          "metadata": {
            "needs_background": "light"
          }
        }
      ]
    },
    {
      "cell_type": "markdown",
      "metadata": {
        "id": "6HtFSl3J4wXa"
      },
      "source": [
        "# Análise estática 🔴 📉\n",
        "###Correlação PIB percapta e Expectativa de Vida\n",
        "- A partir de um loob para analisar cada país individualmente, conseguimos extrair as correlações e armazena-las em uma lista.\n",
        "\n",
        "\n",
        "\n",
        "```\n",
        "correlações = []\n",
        "for p in paises:\n",
        "  meudf = df_do_pais(p)\n",
        "  correlação = abs(meudf['Expectativa de Vida'].corr(meudf['PIB per capita']))\n",
        "  correlações.append(correlação)\n",
        "```\n",
        "\n",
        "- A partir dessa lista de correlações plotei boxplot.\n",
        "![image.png](data:image/png;base64,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)\n",
        "- A partir do boxplot, podemos observar que a correlação entre expectativa de vida e pib per capita é bem forte. Uma vez que o segundo quartil se encontra acima do 0.8. \n",
        "\n",
        "Por quê?\n",
        "- Uma possível interpretação pra esse forte vínculo é relacionar o PIB per capita com distribuição de renda, e quanto maior o poder de compra do cidadão melhores condições alimentares, de moradia, sanitárias e etc. Diminuindo assim a taxa de mortalidade, que é uma variável importante no calculo da expectativa de vida. \n",
        "\n",
        "- Outra forma interessante de se analisar, que não vincularia necessariamente o fator distribuição de renda, mas uma democratização dos recursos básicos como hospitais públicos, postos de alimentação, enfim, a expanção do auxílio do estado na qualidade de vida do cidadão sem necessariamente distribuir de maneira direta a renda e sim o recurso a partir daquela \"renda per capita\". \n",
        "\n",
        "\n",
        "E os outliers?\n",
        "- PIB per capita não significa necessariamente distribuição de renda, portanto, países ricos mas desiguais podem apresentar esse IHDR baixo. Assim, poderiamos até utilizar dessa baixa correlação para analisar a distribuição de renda do país (De maneira não muito profunda, claro.) e a escassez na distribuição desses recursos. Com essas interpretações em mente, criaremos um indicador que vamos chamar de \"*Indicador histórico de distribuição de recursos*\" **(IHDR)**,que se obtem SOMOMENTE se analisarmos o passar dos anos. \n",
        "\n",
        "\n",
        " E a partir disso, IHDR's menores ou iguais a 0.70 indicariam uma RELEVANTE concentração de recursos/renda. \n",
        "\n",
        "- Pra isso, contei quantos países em cada continente tem IHDR menor ou igual a 0.7 para identificar o continente mais desigual. Assim, encontrei a seguinte distribuição.\n",
        "\n",
        "![image.png](data:image/png;base64,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)\n",
        "\n",
        "Ou seja, de acordo com esse nosso novo coeficiente, poderiamos considerar o Africa o continente com o menor distribuição de recursos. \n",
        "\n",
        "Vale ressaltar que a nossa base de dados não conta com muitos países. Na oceania por exemplo só temos Nova Zelândia e Australia. Portanto, seria interessante fazer a mesma análise com uma base de dados mais detalhada. \n",
        "\n",
        "Suas limitações e outras interpretações.\n",
        "O país poderia fornecer uma infraestrutura pública que não necessariamente significaria distribuição de renda literal, mas sim a construção de hospitais, distribuição de alimentação e etc. que tbm afetariam o crescimento da expectativa de vida. "
      ]
    },
    {
      "cell_type": "code",
      "metadata": {
        "colab": {
          "base_uri": "https://localhost:8080/",
          "height": 300
        },
        "id": "Yxua1r_dygeK",
        "outputId": "724f4d3f-8f4f-4fd9-89d7-9957d32d5475"
      },
      "source": [
        "#Correlação PIB percapta e Expectativa de Vida\n",
        "# df['País'].unique() \n",
        "paises = ['Afghanistan', 'Albania', 'Algeria', 'Angola', 'Argentina',\n",
        "       'Australia', 'Austria', 'Bahrain', 'Bangladesh', 'Belgium',\n",
        "       'Benin', 'Bolivia', 'Bosnia and Herzegovina', 'Botswana', 'Brazil',\n",
        "       'Bulgaria', 'Burkina Faso', 'Burundi', 'Cambodia', 'Cameroon',\n",
        "       'Canada', 'Central African Republic', 'Chad', 'Chile', 'China',\n",
        "       'Colombia', 'Comoros', 'Congo, Dem. Rep.', 'Congo, Rep.',\n",
        "       'Costa Rica', 'Croatia', 'Cuba', 'Czech Republic',\n",
        "       'Denmark', 'Djibouti', 'Dominican Republic', 'Ecuador', 'Egypt',\n",
        "       'El Salvador', 'Equatorial Guinea', 'Eritrea', 'Ethiopia',\n",
        "       'Finland', 'France', 'Gabon', 'Gambia', 'Germany', 'Ghana',\n",
        "       'Greece', 'Guatemala', 'Guinea', 'Guinea-Bissau', 'Haiti',\n",
        "       'Honduras', 'Hong Kong, China', 'Hungary', 'Iceland', 'India',\n",
        "       'Indonesia', 'Iran', 'Iraq', 'Ireland', 'Israel', 'Italy',\n",
        "       'Jamaica', 'Japan', 'Jordan', 'Kenya', 'Korea, Dem. Rep.',\n",
        "       'Korea, Rep.', 'Kuwait', 'Lebanon', 'Lesotho', 'Liberia', 'Libya',\n",
        "       'Madagascar', 'Malawi', 'Malaysia', 'Mali', 'Mauritania',\n",
        "       'Mauritius', 'Mexico', 'Mongolia', 'Montenegro', 'Morocco',\n",
        "       'Mozambique', 'Myanmar', 'Namibia', 'Nepal', 'Netherlands',\n",
        "       'New Zealand', 'Nicaragua', 'Niger', 'Nigeria', 'Norway', 'Oman',\n",
        "       'Pakistan', 'Panama', 'Paraguay', 'Peru', 'Philippines', 'Poland',\n",
        "       'Portugal', 'Puerto Rico', 'Reunion', 'Romania', 'Rwanda',\n",
        "       'Sao Tome and Principe', 'Saudi Arabia', 'Senegal', 'Serbia',\n",
        "       'Sierra Leone', 'Singapore', 'Slovak Republic', 'Slovenia',\n",
        "       'Somalia', 'South Africa', 'Spain', 'Sri Lanka', 'Sudan',\n",
        "       'Swaziland', 'Sweden', 'Switzerland', 'Syria', 'Taiwan',\n",
        "       'Tanzania', 'Thailand', 'Togo', 'Trinidad and Tobago', 'Tunisia',\n",
        "       'Turkey', 'Uganda', 'United Kingdom', 'United States', 'Uruguay',\n",
        "       'Venezuela', 'Vietnam', 'West Bank and Gaza', 'Yemen, Rep.',\n",
        "       'Zambia', 'Zimbabwe'] \n",
        "correlações = []\n",
        "contAsia = 0 \n",
        "contEu = 0 \n",
        "contAmericas = 0 \n",
        "contAfrica = 0 \n",
        "contOceania = 0\n",
        "\n",
        "for p in paises:\n",
        "  meudf = df_do_pais(p)\n",
        "  correlação = abs(meudf['Expectativa de Vida'].corr(meudf['PIB per capita']))\n",
        "  correlações.append(correlação)\n",
        "  if correlação <= 0.70:\n",
        "    if continente_do_pais(p) == \"Africa\":\n",
        "      contAfrica = contAfrica + 1\n",
        "    if continente_do_pais(p) == \"Asia\":\n",
        "      contAsia = contAsia + 1\n",
        "    if continente_do_pais(p) == \"Europe\":\n",
        "      contEu = contEu + 1\n",
        "    if continente_do_pais(p) == \"Oceania\":\n",
        "      contOceania = contOceania + 1\n",
        "    if continente_do_pais(p) == \"Americas\":\n",
        "      contAmericas = contAmericas + 1\n",
        "np.percentile(correlações, q=50)\n",
        "plt.boxplot(correlações)\n",
        "plt.ylabel(\"IHDR\")\n",
        "print(\"Asia:\",contAsia , \"Europe:\",contEu, \"Americas:\",contAmericas,\"Africa:\", contAfrica,\"Oceania:\", contOceania)\n",
        "df['Continente'].unique()\n"
      ],
      "execution_count": null,
      "outputs": [
        {
          "output_type": "stream",
          "name": "stdout",
          "text": [
            "Asia: 7 Europe: 1 Americas: 5 Africa: 27 Oceania: 0\n"
          ]
        },
        {
          "output_type": "execute_result",
          "data": {
            "text/plain": [
              "array(['Asia', 'Europe', 'Africa', 'Americas', 'Oceania'], dtype=object)"
            ]
          },
          "metadata": {},
          "execution_count": 29
        },
        {
          "output_type": "display_data",
          "data": {
            "image/png": "[encoded data removed]",
            "text/plain": [
              "<Figure size 432x288 with 1 Axes>"
            ]
          },
          "metadata": {
            "needs_background": "light"
          }
        }
      ]
    },
    {
      "cell_type": "code",
      "metadata": {
        "colab": {
          "base_uri": "https://localhost:8080/",
          "height": 298
        },
        "id": "EJjlSzj0BEZB",
        "outputId": "4da750d3-eaef-448a-d6a8-cf81dc4b2e4a"
      },
      "source": [
        "plt.bar(CONTINENTES, [contAsia,contEu,contAfrica,contAmericas,contOceania])\n",
        "plt. ylabel(\"Nº de Países\") \n",
        "plt.title(\"IHDR's abaixo de 0.7 - 1952 a 2007\")"
      ],
      "execution_count": null,
      "outputs": [
        {
          "output_type": "execute_result",
          "data": {
            "text/plain": [
              "Text(0.5, 1.0, \"IHDR's abaixo de 0.7 - 1952 a 2007\")"
            ]
          },
          "metadata": {},
          "execution_count": 28
        },
        {
          "output_type": "display_data",
          "data": {
            "image/png": "[encoded data removed]",
            "text/plain": [
              "<Figure size 432x288 with 1 Axes>"
            ]
          },
          "metadata": {
            "needs_background": "light"
          }
        }
      ]
    }
  ]
}